{
 "cells": [
  {
   "cell_type": "markdown",
   "metadata": {
    "ExecuteTime": {
     "end_time": "2021-06-22T21:06:40.126722Z",
     "start_time": "2021-06-22T21:06:40.103671Z"
    }
   },
   "source": [
    "# <font color=\"steelblue\">WEB SCRAPPING</font>"
   ]
  },
  {
   "cell_type": "markdown",
   "metadata": {},
   "source": [
    "Indeed is the job site in the world with over 180 million unique job seekers visiting the site each month.It strives to put job seekers first, giving them free access to search for jobs, post resumes, and research companies.\n",
    "\n",
    "So for web-scrapping task I will scrap the data of jobs related **Data-Scientist** from **Indeed.com** website and will make a dataframe.\n",
    "<font color='orange'>link : </font>https://se.indeed.com/jobb?q=data+scientist&start=\n",
    "\n",
    "For this task,I will use ****BeautifulSoup**** ."
   ]
  },
  {
   "cell_type": "markdown",
   "metadata": {},
   "source": [
    "### IMPORTING NECESSARY LIBRARIES AND REQUESTS"
   ]
  },
  {
   "cell_type": "code",
   "execution_count": 4,
   "metadata": {
    "ExecuteTime": {
     "end_time": "2021-06-23T21:32:40.841768Z",
     "start_time": "2021-06-23T21:32:40.837347Z"
    }
   },
   "outputs": [],
   "source": [
    "import bs4\n",
    "from bs4 import BeautifulSoup as bs\n",
    "import requests\n",
    "import pandas as pd\n",
    "import numpy as np"
   ]
  },
  {
   "cell_type": "markdown",
   "metadata": {},
   "source": [
    "### For all jobs in 1st page"
   ]
  },
  {
   "cell_type": "code",
   "execution_count": 5,
   "metadata": {
    "ExecuteTime": {
     "end_time": "2021-06-23T21:32:42.643600Z",
     "start_time": "2021-06-23T21:32:42.077942Z"
    }
   },
   "outputs": [],
   "source": [
    "# Getting the whole list of jobs in 1st page\n",
    "re=requests.get(\"https://se.indeed.com/jobb?q=data+scientist&start=\").text\n",
    "soup = bs(re,'lxml')\n",
    "new1=pd.DataFrame()   \n",
    "joblist1=[]\n",
    "divs = soup.find_all('div',attrs={'class':'job_seen_beacon'})\n",
    "    \n",
    "for jobs in divs:\n",
    "    try:\n",
    "        z=jobs.find_all('span')\n",
    "        if (z[0].text)=='ny':\n",
    "            job_title=z[1].text\n",
    "        else:\n",
    "            job_title=z[0].text\n",
    "            \n",
    "    except Exception as e:\n",
    "        job_title=None\n",
    "        #print('Job Title: ',job_title)\n",
    "        \n",
    "        \n",
    "    try:\n",
    "        company=jobs.find('span',class_='companyName').text.strip()\n",
    "            \n",
    "    except Exception as e:\n",
    "        company=None\n",
    "        #print('Company_name: ',company)\n",
    "        \n",
    "    try:\n",
    "        rating=jobs.find('span',attrs={'aria-hidden':'true'}).text.strip()\n",
    "    except Exception as e:\n",
    "        rating=np.nan\n",
    "        #print('Rating: ',rating)\n",
    "        \n",
    "    try:\n",
    "        location=jobs.find(\"div\",class_='companyLocation').text.strip()\n",
    "    \n",
    "    except Exception as e:\n",
    "        location=None\n",
    "        #print('Company_location: ',location)\n",
    "        \n",
    "        \n",
    "    try:\n",
    "        summary=jobs.find('div',class_='job-snippet').text.strip()\n",
    "\n",
    "    except Exception as e:\n",
    "        summary=None\n",
    "        #print('Summary: ',summary)\n",
    "    \n",
    "    job = {\"Job-Title\":job_title, \"Company-Name\":company,\"Rating\":rating, \"Job-Location\": location, \"Summary\":summary}\n",
    "    \n",
    "    joblist1.append(job)\n",
    "        \n",
    "df1 = pd.DataFrame(joblist1)\n",
    "new1=new1.append(df1,ignore_index=True)   "
   ]
  },
  {
   "cell_type": "code",
   "execution_count": 6,
   "metadata": {
    "ExecuteTime": {
     "end_time": "2021-06-23T21:32:43.500961Z",
     "start_time": "2021-06-23T21:32:43.467876Z"
    }
   },
   "outputs": [
    {
     "data": {
      "text/html": [
       "<div>\n",
       "<style scoped>\n",
       "    .dataframe tbody tr th:only-of-type {\n",
       "        vertical-align: middle;\n",
       "    }\n",
       "\n",
       "    .dataframe tbody tr th {\n",
       "        vertical-align: top;\n",
       "    }\n",
       "\n",
       "    .dataframe thead th {\n",
       "        text-align: right;\n",
       "    }\n",
       "</style>\n",
       "<table border=\"1\" class=\"dataframe\">\n",
       "  <thead>\n",
       "    <tr style=\"text-align: right;\">\n",
       "      <th></th>\n",
       "      <th>Job-Title</th>\n",
       "      <th>Company-Name</th>\n",
       "      <th>Rating</th>\n",
       "      <th>Job-Location</th>\n",
       "      <th>Summary</th>\n",
       "    </tr>\n",
       "  </thead>\n",
       "  <tbody>\n",
       "    <tr>\n",
       "      <th>0</th>\n",
       "      <td>Data Scientist</td>\n",
       "      <td>Curb food</td>\n",
       "      <td>NaN</td>\n",
       "      <td>Stockholm</td>\n",
       "      <td>You will work closely with business stakeholde...</td>\n",
       "    </tr>\n",
       "    <tr>\n",
       "      <th>1</th>\n",
       "      <td>We are looking for our next Data Scientist!</td>\n",
       "      <td>Columbus</td>\n",
       "      <td>NaN</td>\n",
       "      <td>Stockholm</td>\n",
       "      <td>Experience building ETL pipelines and data env...</td>\n",
       "    </tr>\n",
       "    <tr>\n",
       "      <th>2</th>\n",
       "      <td>Data Scientist</td>\n",
       "      <td>Solita</td>\n",
       "      <td>4,2</td>\n",
       "      <td>Sverige</td>\n",
       "      <td>Inom affärsområdet har vi förutom ett vasst da...</td>\n",
       "    </tr>\n",
       "    <tr>\n",
       "      <th>3</th>\n",
       "      <td>Data Scientist to Coop Digital</td>\n",
       "      <td>Coop</td>\n",
       "      <td>3,4</td>\n",
       "      <td>Solna</td>\n",
       "      <td>Develop in a full-fledged data science environ...</td>\n",
       "    </tr>\n",
       "    <tr>\n",
       "      <th>4</th>\n",
       "      <td>Data Scientist</td>\n",
       "      <td>Quinyx</td>\n",
       "      <td>5,0</td>\n",
       "      <td>Stockholm</td>\n",
       "      <td>3+ years of working experience in a data scien...</td>\n",
       "    </tr>\n",
       "    <tr>\n",
       "      <th>5</th>\n",
       "      <td>Lead Data Scientist (Europe - Remote)</td>\n",
       "      <td>Shopify</td>\n",
       "      <td>3,9</td>\n",
       "      <td>Stockholm•Distans</td>\n",
       "      <td>Experience creating data product strategies, s...</td>\n",
       "    </tr>\n",
       "    <tr>\n",
       "      <th>6</th>\n",
       "      <td>Data Scientist, SDK Platform</td>\n",
       "      <td>Spotify</td>\n",
       "      <td>4,3</td>\n",
       "      <td>Stockholm•Distans</td>\n",
       "      <td>Experience crafting analytical data layers and...</td>\n",
       "    </tr>\n",
       "    <tr>\n",
       "      <th>7</th>\n",
       "      <td>Data Scientist</td>\n",
       "      <td>Tibber</td>\n",
       "      <td>NaN</td>\n",
       "      <td>Stockholm</td>\n",
       "      <td>In this role, you'll among other things work o...</td>\n",
       "    </tr>\n",
       "    <tr>\n",
       "      <th>8</th>\n",
       "      <td>Data Scientist</td>\n",
       "      <td>PriceRunner</td>\n",
       "      <td>NaN</td>\n",
       "      <td>Stockholm</td>\n",
       "      <td>We are looking to welcome you who has a couple...</td>\n",
       "    </tr>\n",
       "    <tr>\n",
       "      <th>9</th>\n",
       "      <td>Data Scientist</td>\n",
       "      <td>DBT</td>\n",
       "      <td>4,1</td>\n",
       "      <td>Stockholm</td>\n",
       "      <td>Support with development of data management an...</td>\n",
       "    </tr>\n",
       "    <tr>\n",
       "      <th>10</th>\n",
       "      <td>Data Scientist</td>\n",
       "      <td>Funmed</td>\n",
       "      <td>NaN</td>\n",
       "      <td>Stockholm</td>\n",
       "      <td>Den data FunMed samlar in genom sin verksamhet...</td>\n",
       "    </tr>\n",
       "    <tr>\n",
       "      <th>11</th>\n",
       "      <td>Data scientist</td>\n",
       "      <td>Bombayworks</td>\n",
       "      <td>NaN</td>\n",
       "      <td>Stockholm</td>\n",
       "      <td>Experience in building data integration, data ...</td>\n",
       "    </tr>\n",
       "    <tr>\n",
       "      <th>12</th>\n",
       "      <td>Data Scientist</td>\n",
       "      <td>Evidens</td>\n",
       "      <td>NaN</td>\n",
       "      <td>Stockholm•Tillfälligt på distans</td>\n",
       "      <td>Evidens befinner sig just nu på en spännande t...</td>\n",
       "    </tr>\n",
       "    <tr>\n",
       "      <th>13</th>\n",
       "      <td>Data Scientist</td>\n",
       "      <td>Mavenoid</td>\n",
       "      <td>NaN</td>\n",
       "      <td>Jobba hemifrån•Distans</td>\n",
       "      <td>At least two years of industry experience in A...</td>\n",
       "    </tr>\n",
       "    <tr>\n",
       "      <th>14</th>\n",
       "      <td>Data Scientist</td>\n",
       "      <td>Northmill</td>\n",
       "      <td>3,0</td>\n",
       "      <td>Stockholm</td>\n",
       "      <td>A strong passion and great knowledge in cloud ...</td>\n",
       "    </tr>\n",
       "  </tbody>\n",
       "</table>\n",
       "</div>"
      ],
      "text/plain": [
       "                                      Job-Title Company-Name Rating  \\\n",
       "0                                Data Scientist    Curb food    NaN   \n",
       "1   We are looking for our next Data Scientist!     Columbus    NaN   \n",
       "2                                Data Scientist       Solita    4,2   \n",
       "3                Data Scientist to Coop Digital         Coop    3,4   \n",
       "4                                Data Scientist       Quinyx    5,0   \n",
       "5         Lead Data Scientist (Europe - Remote)      Shopify    3,9   \n",
       "6                  Data Scientist, SDK Platform      Spotify    4,3   \n",
       "7                                Data Scientist       Tibber    NaN   \n",
       "8                                Data Scientist  PriceRunner    NaN   \n",
       "9                                Data Scientist          DBT    4,1   \n",
       "10                               Data Scientist       Funmed    NaN   \n",
       "11                               Data scientist  Bombayworks    NaN   \n",
       "12                               Data Scientist      Evidens    NaN   \n",
       "13                               Data Scientist     Mavenoid    NaN   \n",
       "14                               Data Scientist    Northmill    3,0   \n",
       "\n",
       "                        Job-Location  \\\n",
       "0                          Stockholm   \n",
       "1                          Stockholm   \n",
       "2                            Sverige   \n",
       "3                              Solna   \n",
       "4                          Stockholm   \n",
       "5                  Stockholm•Distans   \n",
       "6                  Stockholm•Distans   \n",
       "7                          Stockholm   \n",
       "8                          Stockholm   \n",
       "9                          Stockholm   \n",
       "10                         Stockholm   \n",
       "11                         Stockholm   \n",
       "12  Stockholm•Tillfälligt på distans   \n",
       "13            Jobba hemifrån•Distans   \n",
       "14                         Stockholm   \n",
       "\n",
       "                                              Summary  \n",
       "0   You will work closely with business stakeholde...  \n",
       "1   Experience building ETL pipelines and data env...  \n",
       "2   Inom affärsområdet har vi förutom ett vasst da...  \n",
       "3   Develop in a full-fledged data science environ...  \n",
       "4   3+ years of working experience in a data scien...  \n",
       "5   Experience creating data product strategies, s...  \n",
       "6   Experience crafting analytical data layers and...  \n",
       "7   In this role, you'll among other things work o...  \n",
       "8   We are looking to welcome you who has a couple...  \n",
       "9   Support with development of data management an...  \n",
       "10  Den data FunMed samlar in genom sin verksamhet...  \n",
       "11  Experience in building data integration, data ...  \n",
       "12  Evidens befinner sig just nu på en spännande t...  \n",
       "13  At least two years of industry experience in A...  \n",
       "14  A strong passion and great knowledge in cloud ...  "
      ]
     },
     "execution_count": 6,
     "metadata": {},
     "output_type": "execute_result"
    }
   ],
   "source": [
    "new1"
   ]
  },
  {
   "cell_type": "code",
   "execution_count": 7,
   "metadata": {
    "ExecuteTime": {
     "end_time": "2021-06-23T21:32:50.688998Z",
     "start_time": "2021-06-23T21:32:50.677089Z"
    }
   },
   "outputs": [
    {
     "data": {
      "text/plain": [
       "(15, 5)"
      ]
     },
     "execution_count": 7,
     "metadata": {},
     "output_type": "execute_result"
    }
   ],
   "source": [
    "# Shape of the 1st dataframe\n",
    "new1.shape"
   ]
  },
  {
   "cell_type": "code",
   "execution_count": 8,
   "metadata": {
    "ExecuteTime": {
     "end_time": "2021-06-23T21:32:52.314122Z",
     "start_time": "2021-06-23T21:32:52.286942Z"
    }
   },
   "outputs": [
    {
     "data": {
      "text/plain": [
       "0"
      ]
     },
     "execution_count": 8,
     "metadata": {},
     "output_type": "execute_result"
    }
   ],
   "source": [
    "# Checking the duplicated values\n",
    "new1.duplicated().sum()"
   ]
  },
  {
   "cell_type": "markdown",
   "metadata": {},
   "source": [
    "### For all jobs in 2nd,3rd,4th,5th,6th,7th page"
   ]
  },
  {
   "cell_type": "code",
   "execution_count": 9,
   "metadata": {
    "ExecuteTime": {
     "end_time": "2021-06-23T21:32:59.634689Z",
     "start_time": "2021-06-23T21:32:55.401224Z"
    }
   },
   "outputs": [],
   "source": [
    "#  Getting all the job information of Data-Scientist beside 1st page.\n",
    "\n",
    "pages=[10,20,30,40,50,60]\n",
    "new2=pd.DataFrame()\n",
    "for page in pages:\n",
    "    r=requests.get(\"https://se.indeed.com/jobb?q=data+scientist&start={}\".format(page)).text\n",
    "    soup = bs(r,'lxml')\n",
    "    \n",
    "    joblist2=[]\n",
    "    divs = soup.find_all('div',attrs={'class':'job_seen_beacon'})\n",
    "    \n",
    "    for jobs in divs:\n",
    "        try:\n",
    "            z=jobs.find_all('span')\n",
    "            if (z[0].text)=='ny':\n",
    "                job_title=z[1].text\n",
    "            else:\n",
    "                job_title=z[0].text\n",
    "            \n",
    "        except Exception as e:\n",
    "            job_title=None\n",
    "            #print('Job Title: ',job_title)\n",
    "        \n",
    "        \n",
    "        try:\n",
    "            company=jobs.find('span',class_='companyName').text.strip()\n",
    "            \n",
    "        except Exception as e:\n",
    "            company=None\n",
    "            #print('Company_name: ',company)\n",
    "            \n",
    "        try:\n",
    "            rating=jobs.find('span',attrs={'aria-hidden':'true'}).text.strip()\n",
    "        except Exception as e:\n",
    "            rating=np.nan\n",
    "            #print('Rating: ',rating)\n",
    "        \n",
    "        \n",
    "        try:\n",
    "            location=jobs.find(\"div\",class_='companyLocation').text.strip()\n",
    "    \n",
    "        except Exception as e:\n",
    "            location=None\n",
    "            #print('Company_location: ',location)\n",
    "        \n",
    "        \n",
    "        try:\n",
    "            summary=jobs.find('div',class_='job-snippet').text.strip()\n",
    "\n",
    "        except Exception as e:\n",
    "            summary=None\n",
    "            #print('Summary: ',summary)\n",
    "    \n",
    "        job2 = {\"Job-Title\":job_title, \"Company-Name\":company,\"Rating\":rating, \"Job-Location\": location, \"Summary\":summary}\n",
    "    \n",
    "        joblist2.append(job2)\n",
    "        \n",
    "    df2 = pd.DataFrame(joblist2)\n",
    "    new2=new2.append(df2,ignore_index=True)   "
   ]
  },
  {
   "cell_type": "code",
   "execution_count": 10,
   "metadata": {
    "ExecuteTime": {
     "end_time": "2021-06-23T21:33:00.558139Z",
     "start_time": "2021-06-23T21:33:00.535903Z"
    }
   },
   "outputs": [
    {
     "data": {
      "text/html": [
       "<div>\n",
       "<style scoped>\n",
       "    .dataframe tbody tr th:only-of-type {\n",
       "        vertical-align: middle;\n",
       "    }\n",
       "\n",
       "    .dataframe tbody tr th {\n",
       "        vertical-align: top;\n",
       "    }\n",
       "\n",
       "    .dataframe thead th {\n",
       "        text-align: right;\n",
       "    }\n",
       "</style>\n",
       "<table border=\"1\" class=\"dataframe\">\n",
       "  <thead>\n",
       "    <tr style=\"text-align: right;\">\n",
       "      <th></th>\n",
       "      <th>Job-Title</th>\n",
       "      <th>Company-Name</th>\n",
       "      <th>Rating</th>\n",
       "      <th>Job-Location</th>\n",
       "      <th>Summary</th>\n",
       "    </tr>\n",
       "  </thead>\n",
       "  <tbody>\n",
       "    <tr>\n",
       "      <th>0</th>\n",
       "      <td>Data Scientist - AFRY IT Solutions</td>\n",
       "      <td>AFRY</td>\n",
       "      <td>4,3</td>\n",
       "      <td>Stockholm</td>\n",
       "      <td>As a passionate and skilled data scientist you...</td>\n",
       "    </tr>\n",
       "    <tr>\n",
       "      <th>1</th>\n",
       "      <td>Research Scientist in Power Electronics Conver...</td>\n",
       "      <td>Hitachi ABB Power Grids</td>\n",
       "      <td>3,0</td>\n",
       "      <td>Västerås</td>\n",
       "      <td>Conduct laboratory tests, analyze data, and im...</td>\n",
       "    </tr>\n",
       "    <tr>\n",
       "      <th>2</th>\n",
       "      <td>Data Scientist to Production.AI</td>\n",
       "      <td>H&amp;M Group</td>\n",
       "      <td>3,1</td>\n",
       "      <td>Stockholm</td>\n",
       "      <td>Have at least 3 - 5 years working experience i...</td>\n",
       "    </tr>\n",
       "    <tr>\n",
       "      <th>3</th>\n",
       "      <td>Senior Data Scientist</td>\n",
       "      <td>Marginalen Bank</td>\n",
       "      <td>2,8</td>\n",
       "      <td>Stockholm</td>\n",
       "      <td>Utöver detta, kommer du i rollen att bearbeta ...</td>\n",
       "    </tr>\n",
       "    <tr>\n",
       "      <th>4</th>\n",
       "      <td>Data Scientist - Consumer Experience</td>\n",
       "      <td>Spotify</td>\n",
       "      <td>4,3</td>\n",
       "      <td>Göteborg•Tillfälligt på distans</td>\n",
       "      <td>Familiar with qualitative research methods, ut...</td>\n",
       "    </tr>\n",
       "    <tr>\n",
       "      <th>...</th>\n",
       "      <td>...</td>\n",
       "      <td>...</td>\n",
       "      <td>...</td>\n",
       "      <td>...</td>\n",
       "      <td>...</td>\n",
       "    </tr>\n",
       "    <tr>\n",
       "      <th>71</th>\n",
       "      <td>Data Scientist to the worlds biggest streaming...</td>\n",
       "      <td>Academic Work</td>\n",
       "      <td>3,3</td>\n",
       "      <td>Stockholm</td>\n",
       "      <td>You will bring data and insights into every de...</td>\n",
       "    </tr>\n",
       "    <tr>\n",
       "      <th>72</th>\n",
       "      <td>Marketing Data Scientist</td>\n",
       "      <td>Nordic Entertainment Group</td>\n",
       "      <td>NaN</td>\n",
       "      <td>Stockholm</td>\n",
       "      <td>Our technology stack offers great opportunitie...</td>\n",
       "    </tr>\n",
       "    <tr>\n",
       "      <th>73</th>\n",
       "      <td>Data Scientist/Senior Data Scientist</td>\n",
       "      <td>Tele2</td>\n",
       "      <td>4,0</td>\n",
       "      <td>Stockholm</td>\n",
       "      <td>Minimum of 3+ years as data scientist (or equi...</td>\n",
       "    </tr>\n",
       "    <tr>\n",
       "      <th>74</th>\n",
       "      <td>Data Scientist till REITAN CONVENIENCE SWEDEN AB</td>\n",
       "      <td>Academic Work</td>\n",
       "      <td>3,3</td>\n",
       "      <td>Stockholm</td>\n",
       "      <td>Konvertera data till insikter som kan kommunic...</td>\n",
       "    </tr>\n",
       "    <tr>\n",
       "      <th>75</th>\n",
       "      <td>Data Scients to worlds biggest music streaming...</td>\n",
       "      <td>Academic Work</td>\n",
       "      <td>3,3</td>\n",
       "      <td>Stockholm</td>\n",
       "      <td>You have at least 3+ years of experience in a ...</td>\n",
       "    </tr>\n",
       "  </tbody>\n",
       "</table>\n",
       "<p>76 rows × 5 columns</p>\n",
       "</div>"
      ],
      "text/plain": [
       "                                            Job-Title  \\\n",
       "0                  Data Scientist - AFRY IT Solutions   \n",
       "1   Research Scientist in Power Electronics Conver...   \n",
       "2                     Data Scientist to Production.AI   \n",
       "3                               Senior Data Scientist   \n",
       "4                Data Scientist - Consumer Experience   \n",
       "..                                                ...   \n",
       "71  Data Scientist to the worlds biggest streaming...   \n",
       "72                           Marketing Data Scientist   \n",
       "73               Data Scientist/Senior Data Scientist   \n",
       "74   Data Scientist till REITAN CONVENIENCE SWEDEN AB   \n",
       "75  Data Scients to worlds biggest music streaming...   \n",
       "\n",
       "                  Company-Name Rating                     Job-Location  \\\n",
       "0                         AFRY    4,3                        Stockholm   \n",
       "1      Hitachi ABB Power Grids    3,0                         Västerås   \n",
       "2                    H&M Group    3,1                        Stockholm   \n",
       "3              Marginalen Bank    2,8                        Stockholm   \n",
       "4                      Spotify    4,3  Göteborg•Tillfälligt på distans   \n",
       "..                         ...    ...                              ...   \n",
       "71               Academic Work    3,3                        Stockholm   \n",
       "72  Nordic Entertainment Group    NaN                        Stockholm   \n",
       "73                       Tele2    4,0                        Stockholm   \n",
       "74               Academic Work    3,3                        Stockholm   \n",
       "75               Academic Work    3,3                        Stockholm   \n",
       "\n",
       "                                              Summary  \n",
       "0   As a passionate and skilled data scientist you...  \n",
       "1   Conduct laboratory tests, analyze data, and im...  \n",
       "2   Have at least 3 - 5 years working experience i...  \n",
       "3   Utöver detta, kommer du i rollen att bearbeta ...  \n",
       "4   Familiar with qualitative research methods, ut...  \n",
       "..                                                ...  \n",
       "71  You will bring data and insights into every de...  \n",
       "72  Our technology stack offers great opportunitie...  \n",
       "73  Minimum of 3+ years as data scientist (or equi...  \n",
       "74  Konvertera data till insikter som kan kommunic...  \n",
       "75  You have at least 3+ years of experience in a ...  \n",
       "\n",
       "[76 rows x 5 columns]"
      ]
     },
     "execution_count": 10,
     "metadata": {},
     "output_type": "execute_result"
    }
   ],
   "source": [
    "new2"
   ]
  },
  {
   "cell_type": "code",
   "execution_count": 11,
   "metadata": {
    "ExecuteTime": {
     "end_time": "2021-06-23T21:33:06.743286Z",
     "start_time": "2021-06-23T21:33:06.727413Z"
    }
   },
   "outputs": [
    {
     "data": {
      "text/plain": [
       "12"
      ]
     },
     "execution_count": 11,
     "metadata": {},
     "output_type": "execute_result"
    }
   ],
   "source": [
    "# checking the duplicate values\n",
    "new2.duplicated().sum()"
   ]
  },
  {
   "cell_type": "code",
   "execution_count": 12,
   "metadata": {
    "ExecuteTime": {
     "end_time": "2021-06-23T21:33:36.399539Z",
     "start_time": "2021-06-23T21:33:36.379829Z"
    }
   },
   "outputs": [],
   "source": [
    "# dropping the duplicate rows and columns\n",
    "new2=new2.drop_duplicates()"
   ]
  },
  {
   "cell_type": "markdown",
   "metadata": {},
   "source": [
    "### Creating the dataframe containing data from all pages"
   ]
  },
  {
   "cell_type": "code",
   "execution_count": 13,
   "metadata": {
    "ExecuteTime": {
     "end_time": "2021-06-23T21:34:19.101603Z",
     "start_time": "2021-06-23T21:34:19.092578Z"
    }
   },
   "outputs": [],
   "source": [
    "# Creating new dataframe which will contain both dataframe('new1' & 'new2')\n",
    "data_scientist=new1.append(new2,ignore_index=True)"
   ]
  },
  {
   "cell_type": "code",
   "execution_count": 14,
   "metadata": {
    "ExecuteTime": {
     "end_time": "2021-06-23T21:34:21.073264Z",
     "start_time": "2021-06-23T21:34:21.043705Z"
    }
   },
   "outputs": [
    {
     "data": {
      "text/html": [
       "<div>\n",
       "<style scoped>\n",
       "    .dataframe tbody tr th:only-of-type {\n",
       "        vertical-align: middle;\n",
       "    }\n",
       "\n",
       "    .dataframe tbody tr th {\n",
       "        vertical-align: top;\n",
       "    }\n",
       "\n",
       "    .dataframe thead th {\n",
       "        text-align: right;\n",
       "    }\n",
       "</style>\n",
       "<table border=\"1\" class=\"dataframe\">\n",
       "  <thead>\n",
       "    <tr style=\"text-align: right;\">\n",
       "      <th></th>\n",
       "      <th>Job-Title</th>\n",
       "      <th>Company-Name</th>\n",
       "      <th>Rating</th>\n",
       "      <th>Job-Location</th>\n",
       "      <th>Summary</th>\n",
       "    </tr>\n",
       "  </thead>\n",
       "  <tbody>\n",
       "    <tr>\n",
       "      <th>0</th>\n",
       "      <td>Data Scientist</td>\n",
       "      <td>Curb food</td>\n",
       "      <td>NaN</td>\n",
       "      <td>Stockholm</td>\n",
       "      <td>You will work closely with business stakeholde...</td>\n",
       "    </tr>\n",
       "    <tr>\n",
       "      <th>1</th>\n",
       "      <td>We are looking for our next Data Scientist!</td>\n",
       "      <td>Columbus</td>\n",
       "      <td>NaN</td>\n",
       "      <td>Stockholm</td>\n",
       "      <td>Experience building ETL pipelines and data env...</td>\n",
       "    </tr>\n",
       "    <tr>\n",
       "      <th>2</th>\n",
       "      <td>Data Scientist</td>\n",
       "      <td>Solita</td>\n",
       "      <td>4,2</td>\n",
       "      <td>Sverige</td>\n",
       "      <td>Inom affärsområdet har vi förutom ett vasst da...</td>\n",
       "    </tr>\n",
       "    <tr>\n",
       "      <th>3</th>\n",
       "      <td>Data Scientist to Coop Digital</td>\n",
       "      <td>Coop</td>\n",
       "      <td>3,4</td>\n",
       "      <td>Solna</td>\n",
       "      <td>Develop in a full-fledged data science environ...</td>\n",
       "    </tr>\n",
       "    <tr>\n",
       "      <th>4</th>\n",
       "      <td>Data Scientist</td>\n",
       "      <td>Quinyx</td>\n",
       "      <td>5,0</td>\n",
       "      <td>Stockholm</td>\n",
       "      <td>3+ years of working experience in a data scien...</td>\n",
       "    </tr>\n",
       "  </tbody>\n",
       "</table>\n",
       "</div>"
      ],
      "text/plain": [
       "                                     Job-Title Company-Name Rating  \\\n",
       "0                               Data Scientist    Curb food    NaN   \n",
       "1  We are looking for our next Data Scientist!     Columbus    NaN   \n",
       "2                               Data Scientist       Solita    4,2   \n",
       "3               Data Scientist to Coop Digital         Coop    3,4   \n",
       "4                               Data Scientist       Quinyx    5,0   \n",
       "\n",
       "  Job-Location                                            Summary  \n",
       "0    Stockholm  You will work closely with business stakeholde...  \n",
       "1    Stockholm  Experience building ETL pipelines and data env...  \n",
       "2      Sverige  Inom affärsområdet har vi förutom ett vasst da...  \n",
       "3        Solna  Develop in a full-fledged data science environ...  \n",
       "4    Stockholm  3+ years of working experience in a data scien...  "
      ]
     },
     "execution_count": 14,
     "metadata": {},
     "output_type": "execute_result"
    }
   ],
   "source": [
    "data_scientist.head()"
   ]
  },
  {
   "cell_type": "code",
   "execution_count": 15,
   "metadata": {
    "ExecuteTime": {
     "end_time": "2021-06-23T21:34:25.811012Z",
     "start_time": "2021-06-23T21:34:25.781160Z"
    }
   },
   "outputs": [
    {
     "data": {
      "text/plain": [
       "(79, 5)"
      ]
     },
     "execution_count": 15,
     "metadata": {},
     "output_type": "execute_result"
    }
   ],
   "source": [
    "#Shape of the dataframe\n",
    "data_scientist.shape"
   ]
  },
  {
   "cell_type": "code",
   "execution_count": 16,
   "metadata": {
    "ExecuteTime": {
     "end_time": "2021-06-23T21:34:31.594720Z",
     "start_time": "2021-06-23T21:34:31.571771Z"
    }
   },
   "outputs": [
    {
     "data": {
      "text/plain": [
       "0"
      ]
     },
     "execution_count": 16,
     "metadata": {},
     "output_type": "execute_result"
    }
   ],
   "source": [
    "# Checking the duplicate values\n",
    "data_scientist.duplicated().sum()"
   ]
  },
  {
   "cell_type": "markdown",
   "metadata": {},
   "source": [
    "#### As we can see from the dataframe that the column('Rating') has values which is not in proper format."
   ]
  },
  {
   "cell_type": "code",
   "execution_count": 17,
   "metadata": {
    "ExecuteTime": {
     "end_time": "2021-06-23T21:34:37.316893Z",
     "start_time": "2021-06-23T21:34:37.292507Z"
    }
   },
   "outputs": [
    {
     "data": {
      "text/plain": [
       "0    NaN\n",
       "1    NaN\n",
       "2    4,2\n",
       "3    3,4\n",
       "4    5,0\n",
       "5    3,9\n",
       "6    4,3\n",
       "7    NaN\n",
       "8    NaN\n",
       "9    4,1\n",
       "Name: Rating, dtype: object"
      ]
     },
     "execution_count": 17,
     "metadata": {},
     "output_type": "execute_result"
    }
   ],
   "source": [
    "# checking the rating colums\n",
    "data_scientist.Rating.head(10)"
   ]
  },
  {
   "cell_type": "markdown",
   "metadata": {},
   "source": [
    "From above we can see that,the rating column has datatype of 'object'.So my next task is to change the datatype of rating column and replace the dtype of 'object' with 'float'."
   ]
  },
  {
   "cell_type": "code",
   "execution_count": 18,
   "metadata": {
    "ExecuteTime": {
     "end_time": "2021-06-23T21:34:40.018505Z",
     "start_time": "2021-06-23T21:34:40.010491Z"
    }
   },
   "outputs": [],
   "source": [
    "# creating a function which will replace \",\" with \".\"\n",
    "def change(x):\n",
    "    if type(x)==object:\n",
    "        x=x\n",
    "    else:\n",
    "       \n",
    "        if x=='':\n",
    "            x=np.nan\n",
    "        else:\n",
    "            x=str(x)\n",
    "            x=str(x).replace(\",\",\".\")\n",
    "            \n",
    "    return x"
   ]
  },
  {
   "cell_type": "code",
   "execution_count": 19,
   "metadata": {
    "ExecuteTime": {
     "end_time": "2021-06-23T21:34:41.034830Z",
     "start_time": "2021-06-23T21:34:41.024640Z"
    }
   },
   "outputs": [],
   "source": [
    "# Applying the function('change') in column ('Rating')\n",
    "data_scientist[\"Rating\"]=data_scientist['Rating'].apply(change)"
   ]
  },
  {
   "cell_type": "code",
   "execution_count": 20,
   "metadata": {
    "ExecuteTime": {
     "end_time": "2021-06-23T21:34:42.213847Z",
     "start_time": "2021-06-23T21:34:42.191921Z"
    }
   },
   "outputs": [
    {
     "data": {
      "text/plain": [
       "dtype('O')"
      ]
     },
     "execution_count": 20,
     "metadata": {},
     "output_type": "execute_result"
    }
   ],
   "source": [
    "# checking the data type of Rating column\n",
    "data_scientist[\"Rating\"].dtype"
   ]
  },
  {
   "cell_type": "code",
   "execution_count": 21,
   "metadata": {
    "ExecuteTime": {
     "end_time": "2021-06-23T21:34:43.395334Z",
     "start_time": "2021-06-23T21:34:43.379381Z"
    }
   },
   "outputs": [],
   "source": [
    "# converting the data type of column ('Rating') from 'Object' type to 'float' type.\n",
    "data_scientist[\"Rating\"]=data_scientist[\"Rating\"].astype(\"float\")"
   ]
  },
  {
   "cell_type": "code",
   "execution_count": 22,
   "metadata": {
    "ExecuteTime": {
     "end_time": "2021-06-23T21:34:44.434532Z",
     "start_time": "2021-06-23T21:34:44.413095Z"
    }
   },
   "outputs": [
    {
     "data": {
      "text/plain": [
       "dtype('float64')"
      ]
     },
     "execution_count": 22,
     "metadata": {},
     "output_type": "execute_result"
    }
   ],
   "source": [
    "# checking the data type of column('Rating') after conversion\n",
    "data_scientist[\"Rating\"].dtype"
   ]
  },
  {
   "cell_type": "markdown",
   "metadata": {},
   "source": [
    "Now I have a cleaned dataframe 'data_scientist' to which I can save as a csv file."
   ]
  },
  {
   "cell_type": "code",
   "execution_count": 23,
   "metadata": {
    "ExecuteTime": {
     "end_time": "2021-06-23T21:34:48.674367Z",
     "start_time": "2021-06-23T21:34:48.642301Z"
    }
   },
   "outputs": [
    {
     "data": {
      "text/html": [
       "<div>\n",
       "<style scoped>\n",
       "    .dataframe tbody tr th:only-of-type {\n",
       "        vertical-align: middle;\n",
       "    }\n",
       "\n",
       "    .dataframe tbody tr th {\n",
       "        vertical-align: top;\n",
       "    }\n",
       "\n",
       "    .dataframe thead th {\n",
       "        text-align: right;\n",
       "    }\n",
       "</style>\n",
       "<table border=\"1\" class=\"dataframe\">\n",
       "  <thead>\n",
       "    <tr style=\"text-align: right;\">\n",
       "      <th></th>\n",
       "      <th>Job-Title</th>\n",
       "      <th>Company-Name</th>\n",
       "      <th>Rating</th>\n",
       "      <th>Job-Location</th>\n",
       "      <th>Summary</th>\n",
       "    </tr>\n",
       "  </thead>\n",
       "  <tbody>\n",
       "    <tr>\n",
       "      <th>0</th>\n",
       "      <td>Data Scientist</td>\n",
       "      <td>Curb food</td>\n",
       "      <td>NaN</td>\n",
       "      <td>Stockholm</td>\n",
       "      <td>You will work closely with business stakeholde...</td>\n",
       "    </tr>\n",
       "    <tr>\n",
       "      <th>1</th>\n",
       "      <td>We are looking for our next Data Scientist!</td>\n",
       "      <td>Columbus</td>\n",
       "      <td>NaN</td>\n",
       "      <td>Stockholm</td>\n",
       "      <td>Experience building ETL pipelines and data env...</td>\n",
       "    </tr>\n",
       "    <tr>\n",
       "      <th>2</th>\n",
       "      <td>Data Scientist</td>\n",
       "      <td>Solita</td>\n",
       "      <td>4.2</td>\n",
       "      <td>Sverige</td>\n",
       "      <td>Inom affärsområdet har vi förutom ett vasst da...</td>\n",
       "    </tr>\n",
       "    <tr>\n",
       "      <th>3</th>\n",
       "      <td>Data Scientist to Coop Digital</td>\n",
       "      <td>Coop</td>\n",
       "      <td>3.4</td>\n",
       "      <td>Solna</td>\n",
       "      <td>Develop in a full-fledged data science environ...</td>\n",
       "    </tr>\n",
       "    <tr>\n",
       "      <th>4</th>\n",
       "      <td>Data Scientist</td>\n",
       "      <td>Quinyx</td>\n",
       "      <td>5.0</td>\n",
       "      <td>Stockholm</td>\n",
       "      <td>3+ years of working experience in a data scien...</td>\n",
       "    </tr>\n",
       "    <tr>\n",
       "      <th>...</th>\n",
       "      <td>...</td>\n",
       "      <td>...</td>\n",
       "      <td>...</td>\n",
       "      <td>...</td>\n",
       "      <td>...</td>\n",
       "    </tr>\n",
       "    <tr>\n",
       "      <th>74</th>\n",
       "      <td>Data Scientist till Securitas Traineeprogram!</td>\n",
       "      <td>Academic Work</td>\n",
       "      <td>3.3</td>\n",
       "      <td>Malmö</td>\n",
       "      <td>I så fall kommer du att arbeta med machine lea...</td>\n",
       "    </tr>\n",
       "    <tr>\n",
       "      <th>75</th>\n",
       "      <td>Data Scientist to the worlds biggest streaming...</td>\n",
       "      <td>Academic Work</td>\n",
       "      <td>3.3</td>\n",
       "      <td>Stockholm</td>\n",
       "      <td>You will bring data and insights into every de...</td>\n",
       "    </tr>\n",
       "    <tr>\n",
       "      <th>76</th>\n",
       "      <td>Marketing Data Scientist</td>\n",
       "      <td>Nordic Entertainment Group</td>\n",
       "      <td>NaN</td>\n",
       "      <td>Stockholm</td>\n",
       "      <td>Our technology stack offers great opportunitie...</td>\n",
       "    </tr>\n",
       "    <tr>\n",
       "      <th>77</th>\n",
       "      <td>Data Scientist/Senior Data Scientist</td>\n",
       "      <td>Tele2</td>\n",
       "      <td>4.0</td>\n",
       "      <td>Stockholm</td>\n",
       "      <td>Minimum of 3+ years as data scientist (or equi...</td>\n",
       "    </tr>\n",
       "    <tr>\n",
       "      <th>78</th>\n",
       "      <td>Data Scientist till REITAN CONVENIENCE SWEDEN AB</td>\n",
       "      <td>Academic Work</td>\n",
       "      <td>3.3</td>\n",
       "      <td>Stockholm</td>\n",
       "      <td>Konvertera data till insikter som kan kommunic...</td>\n",
       "    </tr>\n",
       "  </tbody>\n",
       "</table>\n",
       "<p>79 rows × 5 columns</p>\n",
       "</div>"
      ],
      "text/plain": [
       "                                            Job-Title  \\\n",
       "0                                      Data Scientist   \n",
       "1         We are looking for our next Data Scientist!   \n",
       "2                                      Data Scientist   \n",
       "3                      Data Scientist to Coop Digital   \n",
       "4                                      Data Scientist   \n",
       "..                                                ...   \n",
       "74      Data Scientist till Securitas Traineeprogram!   \n",
       "75  Data Scientist to the worlds biggest streaming...   \n",
       "76                           Marketing Data Scientist   \n",
       "77               Data Scientist/Senior Data Scientist   \n",
       "78   Data Scientist till REITAN CONVENIENCE SWEDEN AB   \n",
       "\n",
       "                  Company-Name  Rating Job-Location  \\\n",
       "0                    Curb food     NaN    Stockholm   \n",
       "1                     Columbus     NaN    Stockholm   \n",
       "2                       Solita     4.2      Sverige   \n",
       "3                         Coop     3.4        Solna   \n",
       "4                       Quinyx     5.0    Stockholm   \n",
       "..                         ...     ...          ...   \n",
       "74               Academic Work     3.3        Malmö   \n",
       "75               Academic Work     3.3    Stockholm   \n",
       "76  Nordic Entertainment Group     NaN    Stockholm   \n",
       "77                       Tele2     4.0    Stockholm   \n",
       "78               Academic Work     3.3    Stockholm   \n",
       "\n",
       "                                              Summary  \n",
       "0   You will work closely with business stakeholde...  \n",
       "1   Experience building ETL pipelines and data env...  \n",
       "2   Inom affärsområdet har vi förutom ett vasst da...  \n",
       "3   Develop in a full-fledged data science environ...  \n",
       "4   3+ years of working experience in a data scien...  \n",
       "..                                                ...  \n",
       "74  I så fall kommer du att arbeta med machine lea...  \n",
       "75  You will bring data and insights into every de...  \n",
       "76  Our technology stack offers great opportunitie...  \n",
       "77  Minimum of 3+ years as data scientist (or equi...  \n",
       "78  Konvertera data till insikter som kan kommunic...  \n",
       "\n",
       "[79 rows x 5 columns]"
      ]
     },
     "execution_count": 23,
     "metadata": {},
     "output_type": "execute_result"
    }
   ],
   "source": [
    "data_scientist"
   ]
  },
  {
   "cell_type": "markdown",
   "metadata": {},
   "source": [
    "### Converting the dataframe into csv file"
   ]
  },
  {
   "cell_type": "code",
   "execution_count": 24,
   "metadata": {
    "ExecuteTime": {
     "end_time": "2021-06-23T21:34:56.545015Z",
     "start_time": "2021-06-23T21:34:56.520966Z"
    }
   },
   "outputs": [],
   "source": [
    "#data_scientist.to_csv(\"data_scientist_indeed.csv\")"
   ]
  },
  {
   "cell_type": "markdown",
   "metadata": {},
   "source": [
    "### Conclusion:\n",
    " We have now cleaned dataset('data_scientist') with which we can do further analysis in future.The dataset contains all the jobs of data-scientist in Indeed.com website."
   ]
  }
 ],
 "metadata": {
  "kernelspec": {
   "display_name": "Python 3",
   "language": "python",
   "name": "python3"
  },
  "language_info": {
   "codemirror_mode": {
    "name": "ipython",
    "version": 3
   },
   "file_extension": ".py",
   "mimetype": "text/x-python",
   "name": "python",
   "nbconvert_exporter": "python",
   "pygments_lexer": "ipython3",
   "version": "3.8.5"
  },
  "varInspector": {
   "cols": {
    "lenName": 16,
    "lenType": 16,
    "lenVar": 40
   },
   "kernels_config": {
    "python": {
     "delete_cmd_postfix": "",
     "delete_cmd_prefix": "del ",
     "library": "var_list.py",
     "varRefreshCmd": "print(var_dic_list())"
    },
    "r": {
     "delete_cmd_postfix": ") ",
     "delete_cmd_prefix": "rm(",
     "library": "var_list.r",
     "varRefreshCmd": "cat(var_dic_list()) "
    }
   },
   "types_to_exclude": [
    "module",
    "function",
    "builtin_function_or_method",
    "instance",
    "_Feature"
   ],
   "window_display": false
  }
 },
 "nbformat": 4,
 "nbformat_minor": 4
}
